{
 "cells": [
  {
   "cell_type": "code",
   "execution_count": 77,
   "metadata": {
    "vscode": {
     "languageId": "r"
    }
   },
   "outputs": [
    {
     "data": {
      "text/html": [
       "<table class=\"dataframe\">\n",
       "<caption>A data.frame: 6 × 5</caption>\n",
       "<thead>\n",
       "\t<tr><th></th><th scope=col>State</th><th scope=col>Population..en.milliers.</th><th scope=col>Total.murders..2009.</th><th scope=col>tauxmeurtres</th><th scope=col>PDMabolie09</th></tr>\n",
       "\t<tr><th></th><th scope=col>&lt;chr&gt;</th><th scope=col>&lt;int&gt;</th><th scope=col>&lt;int&gt;</th><th scope=col>&lt;dbl&gt;</th><th scope=col>&lt;chr&gt;</th></tr>\n",
       "</thead>\n",
       "<tbody>\n",
       "\t<tr><th scope=row>1</th><td>Vermont      </td><td> 622</td><td> 7</td><td>0.113</td><td>oui</td></tr>\n",
       "\t<tr><th scope=row>2</th><td>Iowa         </td><td>3008</td><td>34</td><td>0.113</td><td>oui</td></tr>\n",
       "\t<tr><th scope=row>3</th><td>Minnesota    </td><td>5266</td><td>72</td><td>0.137</td><td>oui</td></tr>\n",
       "\t<tr><th scope=row>4</th><td>North Dakota </td><td> 647</td><td> 9</td><td>0.139</td><td>oui</td></tr>\n",
       "\t<tr><th scope=row>5</th><td>Hawaii       </td><td>1295</td><td>21</td><td>0.162</td><td>oui</td></tr>\n",
       "\t<tr><th scope=row>6</th><td>Maine        </td><td>1318</td><td>26</td><td>0.197</td><td>oui</td></tr>\n",
       "</tbody>\n",
       "</table>\n"
      ],
      "text/latex": [
       "A data.frame: 6 × 5\n",
       "\\begin{tabular}{r|lllll}\n",
       "  & State & Population..en.milliers. & Total.murders..2009. & tauxmeurtres & PDMabolie09\\\\\n",
       "  & <chr> & <int> & <int> & <dbl> & <chr>\\\\\n",
       "\\hline\n",
       "\t1 & Vermont       &  622 &  7 & 0.113 & oui\\\\\n",
       "\t2 & Iowa          & 3008 & 34 & 0.113 & oui\\\\\n",
       "\t3 & Minnesota     & 5266 & 72 & 0.137 & oui\\\\\n",
       "\t4 & North Dakota  &  647 &  9 & 0.139 & oui\\\\\n",
       "\t5 & Hawaii        & 1295 & 21 & 0.162 & oui\\\\\n",
       "\t6 & Maine         & 1318 & 26 & 0.197 & oui\\\\\n",
       "\\end{tabular}\n"
      ],
      "text/markdown": [
       "\n",
       "A data.frame: 6 × 5\n",
       "\n",
       "| <!--/--> | State &lt;chr&gt; | Population..en.milliers. &lt;int&gt; | Total.murders..2009. &lt;int&gt; | tauxmeurtres &lt;dbl&gt; | PDMabolie09 &lt;chr&gt; |\n",
       "|---|---|---|---|---|---|\n",
       "| 1 | Vermont       |  622 |  7 | 0.113 | oui |\n",
       "| 2 | Iowa          | 3008 | 34 | 0.113 | oui |\n",
       "| 3 | Minnesota     | 5266 | 72 | 0.137 | oui |\n",
       "| 4 | North Dakota  |  647 |  9 | 0.139 | oui |\n",
       "| 5 | Hawaii        | 1295 | 21 | 0.162 | oui |\n",
       "| 6 | Maine         | 1318 | 26 | 0.197 | oui |\n",
       "\n"
      ],
      "text/plain": [
       "  State         Population..en.milliers. Total.murders..2009. tauxmeurtres\n",
       "1 Vermont        622                      7                   0.113       \n",
       "2 Iowa          3008                     34                   0.113       \n",
       "3 Minnesota     5266                     72                   0.137       \n",
       "4 North Dakota   647                      9                   0.139       \n",
       "5 Hawaii        1295                     21                   0.162       \n",
       "6 Maine         1318                     26                   0.197       \n",
       "  PDMabolie09\n",
       "1 oui        \n",
       "2 oui        \n",
       "3 oui        \n",
       "4 oui        \n",
       "5 oui        \n",
       "6 oui        "
      ]
     },
     "metadata": {},
     "output_type": "display_data"
    }
   ],
   "source": [
    "# Load the CSV file\n",
    "data<-read.csv(\"/home/hamlil/Desktop/R/murderusa.csv\", sep = \";\", fill = TRUE,dec=\",\")\n",
    "head(data)"
   ]
  },
  {
   "cell_type": "code",
   "execution_count": 68,
   "metadata": {
    "vscode": {
     "languageId": "r"
    }
   },
   "outputs": [],
   "source": [
    "txcrime09=as.numeric(data$tauxmeurtres)\n",
    "PDMabolie09=data$PDMabolie09"
   ]
  },
  {
   "cell_type": "code",
   "execution_count": 69,
   "metadata": {
    "vscode": {
     "languageId": "r"
    }
   },
   "outputs": [],
   "source": [
    "Murder=rbind(txcrime09,PDMabolie09)\n",
    "abolie09=as.numeric(Murder[1,Murder[2,]==\"oui\"])\n",
    "nonabolie09=as.numeric(Murder[1,Murder[2,]==\"non\"])"
   ]
  },
  {
   "cell_type": "code",
   "execution_count": 70,
   "metadata": {
    "vscode": {
     "languageId": "r"
    }
   },
   "outputs": [
    {
     "data": {
      "text/plain": [
       "            Df Sum Sq Mean Sq F value Pr(>F)  \n",
       "PDMabolie09  1  0.379  0.3794   3.172 0.0812 .\n",
       "Residuals   48  5.740  0.1196                 \n",
       "---\n",
       "Signif. codes:  0 ‘***’ 0.001 ‘**’ 0.01 ‘*’ 0.05 ‘.’ 0.1 ‘ ’ 1"
      ]
     },
     "metadata": {},
     "output_type": "display_data"
    }
   ],
   "source": [
    "summary(aov(txcrime09~PDMabolie09))"
   ]
  },
  {
   "cell_type": "code",
   "execution_count": 71,
   "metadata": {
    "vscode": {
     "languageId": "r"
    }
   },
   "outputs": [
    {
     "data": {
      "text/html": [
       "<table class=\"dataframe\">\n",
       "<caption>A anova: 2 × 5</caption>\n",
       "<thead>\n",
       "\t<tr><th></th><th scope=col>Df</th><th scope=col>Sum Sq</th><th scope=col>Mean Sq</th><th scope=col>F value</th><th scope=col>Pr(&gt;F)</th></tr>\n",
       "\t<tr><th></th><th scope=col>&lt;int&gt;</th><th scope=col>&lt;dbl&gt;</th><th scope=col>&lt;dbl&gt;</th><th scope=col>&lt;dbl&gt;</th><th scope=col>&lt;dbl&gt;</th></tr>\n",
       "</thead>\n",
       "<tbody>\n",
       "\t<tr><th scope=row>PDMabolie09</th><td> 1</td><td>0.3793872</td><td>0.3793872</td><td>3.172317</td><td>0.08122444</td></tr>\n",
       "\t<tr><th scope=row>Residuals</th><td>48</td><td>5.7404680</td><td>0.1195931</td><td>      NA</td><td>        NA</td></tr>\n",
       "</tbody>\n",
       "</table>\n"
      ],
      "text/latex": [
       "A anova: 2 × 5\n",
       "\\begin{tabular}{r|lllll}\n",
       "  & Df & Sum Sq & Mean Sq & F value & Pr(>F)\\\\\n",
       "  & <int> & <dbl> & <dbl> & <dbl> & <dbl>\\\\\n",
       "\\hline\n",
       "\tPDMabolie09 &  1 & 0.3793872 & 0.3793872 & 3.172317 & 0.08122444\\\\\n",
       "\tResiduals & 48 & 5.7404680 & 0.1195931 &       NA &         NA\\\\\n",
       "\\end{tabular}\n"
      ],
      "text/markdown": [
       "\n",
       "A anova: 2 × 5\n",
       "\n",
       "| <!--/--> | Df &lt;int&gt; | Sum Sq &lt;dbl&gt; | Mean Sq &lt;dbl&gt; | F value &lt;dbl&gt; | Pr(&gt;F) &lt;dbl&gt; |\n",
       "|---|---|---|---|---|---|\n",
       "| PDMabolie09 |  1 | 0.3793872 | 0.3793872 | 3.172317 | 0.08122444 |\n",
       "| Residuals | 48 | 5.7404680 | 0.1195931 |       NA |         NA |\n",
       "\n"
      ],
      "text/plain": [
       "            Df Sum Sq    Mean Sq   F value  Pr(>F)    \n",
       "PDMabolie09  1 0.3793872 0.3793872 3.172317 0.08122444\n",
       "Residuals   48 5.7404680 0.1195931       NA         NA"
      ]
     },
     "metadata": {},
     "output_type": "display_data"
    }
   ],
   "source": [
    "anova(lm(txcrime09~PDMabolie09))"
   ]
  },
  {
   "cell_type": "code",
   "execution_count": 72,
   "metadata": {
    "vscode": {
     "languageId": "r"
    }
   },
   "outputs": [
    {
     "data": {
      "image/png": "[encoded data removed]",
      "text/plain": [
       "plot without title"
      ]
     },
     "metadata": {
      "image/png": {
       "height": 420,
       "width": 420
      }
     },
     "output_type": "display_data"
    }
   ],
   "source": [
    "boxplot(abolie09,nonabolie09)"
   ]
  },
  {
   "cell_type": "code",
   "execution_count": 74,
   "metadata": {
    "vscode": {
     "languageId": "r"
    }
   },
   "outputs": [
    {
     "data": {
      "image/png": "[encoded data removed]",
      "text/plain": [
       "Plot with title “Boxplot des taux de criminalité”"
      ]
     },
     "metadata": {
      "image/png": {
       "height": 420,
       "width": 420
      }
     },
     "output_type": "display_data"
    }
   ],
   "source": [
    "#boxplot(txcrime09,PDMabolie09)\n",
    "# Split txcrime09 by PDMabolie09\n",
    "grouped_data <- split(txcrime09, PDMabolie09)\n",
    "\n",
    "# Create the boxplot\n",
    "boxplot(grouped_data, names = c(\"Non Abolie\", \"Abolie\"), main = \"Boxplot des taux de criminalité\")"
   ]
  },
  {
   "cell_type": "code",
   "execution_count": 76,
   "metadata": {
    "vscode": {
     "languageId": "r"
    }
   },
   "outputs": [
    {
     "data": {
      "text/html": [
       "0.0812244441547029"
      ],
      "text/latex": [
       "0.0812244441547029"
      ],
      "text/markdown": [
       "0.0812244441547029"
      ],
      "text/plain": [
       "[1] 0.08122444"
      ]
     },
     "metadata": {},
     "output_type": "display_data"
    }
   ],
   "source": [
    "SCM=length(abolie09)*(mean(abolie09)-mean(txcrime09))^2 + length(nonabolie09)*(mean(nonabolie09)-mean(txcrime09))^2\n",
    "SCE=sum((abolie09-mean(abolie09))^2) + sum((nonabolie09-mean(nonabolie09))^2)\n",
    "Fobs=SCM/(SCE/48)\n",
    "1-pf(Fobs,1,48)"
   ]
  },
  {
   "cell_type": "code",
   "execution_count": 78,
   "metadata": {
    "vscode": {
     "languageId": "r"
    }
   },
   "outputs": [
    {
     "data": {
      "text/html": [
       "<table class=\"dataframe\">\n",
       "<caption>A data.frame: 6 × 2</caption>\n",
       "<thead>\n",
       "\t<tr><th></th><th scope=col>crime_nonabo</th><th scope=col>crime_abo</th></tr>\n",
       "\t<tr><th></th><th scope=col>&lt;dbl&gt;</th><th scope=col>&lt;dbl&gt;</th></tr>\n",
       "</thead>\n",
       "<tbody>\n",
       "\t<tr><th scope=row>1</th><td>532.3</td><td>123.8</td></tr>\n",
       "\t<tr><th scope=row>2</th><td>470.1</td><td>158.3</td></tr>\n",
       "\t<tr><th scope=row>3</th><td>550.9</td><td>227.1</td></tr>\n",
       "\t<tr><th scope=row>4</th><td>445.3</td><td>238.9</td></tr>\n",
       "\t<tr><th scope=row>5</th><td>372.2</td><td>242.6</td></tr>\n",
       "\t<tr><th scope=row>6</th><td>501.8</td><td>245.0</td></tr>\n",
       "</tbody>\n",
       "</table>\n"
      ],
      "text/latex": [
       "A data.frame: 6 × 2\n",
       "\\begin{tabular}{r|ll}\n",
       "  & crime\\_nonabo & crime\\_abo\\\\\n",
       "  & <dbl> & <dbl>\\\\\n",
       "\\hline\n",
       "\t1 & 532.3 & 123.8\\\\\n",
       "\t2 & 470.1 & 158.3\\\\\n",
       "\t3 & 550.9 & 227.1\\\\\n",
       "\t4 & 445.3 & 238.9\\\\\n",
       "\t5 & 372.2 & 242.6\\\\\n",
       "\t6 & 501.8 & 245.0\\\\\n",
       "\\end{tabular}\n"
      ],
      "text/markdown": [
       "\n",
       "A data.frame: 6 × 2\n",
       "\n",
       "| <!--/--> | crime_nonabo &lt;dbl&gt; | crime_abo &lt;dbl&gt; |\n",
       "|---|---|---|\n",
       "| 1 | 532.3 | 123.8 |\n",
       "| 2 | 470.1 | 158.3 |\n",
       "| 3 | 550.9 | 227.1 |\n",
       "| 4 | 445.3 | 238.9 |\n",
       "| 5 | 372.2 | 242.6 |\n",
       "| 6 | 501.8 | 245.0 |\n",
       "\n"
      ],
      "text/plain": [
       "  crime_nonabo crime_abo\n",
       "1 532.3        123.8    \n",
       "2 470.1        158.3    \n",
       "3 550.9        227.1    \n",
       "4 445.3        238.9    \n",
       "5 372.2        242.6    \n",
       "6 501.8        245.0    "
      ]
     },
     "metadata": {},
     "output_type": "display_data"
    }
   ],
   "source": [
    "data <- read.csv(\"/home/hamlil/Desktop/R/crime16.csv\", sep = \";\", fill = TRUE,dec=\",\")\n",
    "head(data)"
   ]
  },
  {
   "cell_type": "code",
   "execution_count": 79,
   "metadata": {
    "vscode": {
     "languageId": "r"
    }
   },
   "outputs": [],
   "source": [
    "nonabo=data$crime_nonabo\n",
    "abo=data$crime_abo"
   ]
  },
  {
   "cell_type": "code",
   "execution_count": 80,
   "metadata": {
    "vscode": {
     "languageId": "r"
    }
   },
   "outputs": [],
   "source": [
    "taux=c(nonabo,abo)\n",
    "facteur=c(rep(\"nonabo\",length(nonabo)),rep(\"abo\",length(abo)))"
   ]
  },
  {
   "cell_type": "code",
   "execution_count": 81,
   "metadata": {
    "vscode": {
     "languageId": "r"
    }
   },
   "outputs": [
    {
     "data": {
      "image/png": "[encoded data removed]",
      "text/plain": [
       "plot without title"
      ]
     },
     "metadata": {
      "image/png": {
       "height": 420,
       "width": 420
      }
     },
     "output_type": "display_data"
    }
   ],
   "source": [
    "boxplot(taux~facteur)"
   ]
  },
  {
   "cell_type": "code",
   "execution_count": 82,
   "metadata": {
    "vscode": {
     "languageId": "r"
    }
   },
   "outputs": [
    {
     "data": {
      "text/html": [
       "<table class=\"dataframe\">\n",
       "<caption>A anova: 2 × 5</caption>\n",
       "<thead>\n",
       "\t<tr><th></th><th scope=col>Df</th><th scope=col>Sum Sq</th><th scope=col>Mean Sq</th><th scope=col>F value</th><th scope=col>Pr(&gt;F)</th></tr>\n",
       "\t<tr><th></th><th scope=col>&lt;int&gt;</th><th scope=col>&lt;dbl&gt;</th><th scope=col>&lt;dbl&gt;</th><th scope=col>&lt;dbl&gt;</th><th scope=col>&lt;dbl&gt;</th></tr>\n",
       "</thead>\n",
       "<tbody>\n",
       "\t<tr><th scope=row>facteur</th><td> 1</td><td>   1689.633</td><td> 1689.633</td><td>0.04722999</td><td>0.8288961</td></tr>\n",
       "\t<tr><th scope=row>Residuals</th><td>47</td><td>1681404.630</td><td>35774.567</td><td>        NA</td><td>       NA</td></tr>\n",
       "</tbody>\n",
       "</table>\n"
      ],
      "text/latex": [
       "A anova: 2 × 5\n",
       "\\begin{tabular}{r|lllll}\n",
       "  & Df & Sum Sq & Mean Sq & F value & Pr(>F)\\\\\n",
       "  & <int> & <dbl> & <dbl> & <dbl> & <dbl>\\\\\n",
       "\\hline\n",
       "\tfacteur &  1 &    1689.633 &  1689.633 & 0.04722999 & 0.8288961\\\\\n",
       "\tResiduals & 47 & 1681404.630 & 35774.567 &         NA &        NA\\\\\n",
       "\\end{tabular}\n"
      ],
      "text/markdown": [
       "\n",
       "A anova: 2 × 5\n",
       "\n",
       "| <!--/--> | Df &lt;int&gt; | Sum Sq &lt;dbl&gt; | Mean Sq &lt;dbl&gt; | F value &lt;dbl&gt; | Pr(&gt;F) &lt;dbl&gt; |\n",
       "|---|---|---|---|---|---|\n",
       "| facteur |  1 |    1689.633 |  1689.633 | 0.04722999 | 0.8288961 |\n",
       "| Residuals | 47 | 1681404.630 | 35774.567 |         NA |        NA |\n",
       "\n"
      ],
      "text/plain": [
       "          Df Sum Sq      Mean Sq   F value    Pr(>F)   \n",
       "facteur    1    1689.633  1689.633 0.04722999 0.8288961\n",
       "Residuals 47 1681404.630 35774.567         NA        NA"
      ]
     },
     "metadata": {},
     "output_type": "display_data"
    }
   ],
   "source": [
    "anova(lm(taux~facteur))"
   ]
  }
 ],
 "metadata": {
  "kernelspec": {
   "display_name": "R",
   "language": "R",
   "name": "ir"
  },
  "language_info": {
   "codemirror_mode": "r",
   "file_extension": ".r",
   "mimetype": "text/x-r-source",
   "name": "R",
   "pygments_lexer": "r",
   "version": "4.3.1"
  }
 },
 "nbformat": 4,
 "nbformat_minor": 2
}
